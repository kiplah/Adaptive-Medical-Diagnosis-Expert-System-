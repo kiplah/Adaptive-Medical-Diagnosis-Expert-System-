{
  "cells": [
    {
      "cell_type": "markdown",
      "metadata": {
        "id": "AyS4Vu9A2Cxz"
      },
      "source": [
        "**Basic Symptom and Disease Matching**\n"
      ]
    },
    {
      "cell_type": "markdown",
      "metadata": {
        "id": "8UyDHNGf2R9W"
      },
      "source": [
        " 1. Defining Diseases and Symptoms"
      ]
    },
    {
      "cell_type": "code",
      "execution_count": 1,
      "metadata": {
        "id": "IxZDTtj42db1"
      },
      "outputs": [],
      "source": [
        "# Defining diseases and their associated symptoms\n",
        "diseases = {\n",
        "    'Flu': {\n",
        "        'fever': 2, 'cough': 2, 'sore throat': 1, 'runny nose': 1, 'fatigue': 1\n",
        "    },\n",
        "    'Malaria': {\n",
        "        'fever': 3, 'chills': 3, 'sweats': 2, 'headache': 2, 'nausea': 1\n",
        "    },\n",
        "    'Common Cold': {\n",
        "        'runny nose': 2, 'sore throat': 2, 'cough': 1, 'congestion': 1\n",
        "    },\n",
        "    'COVID-19': {\n",
        "        'fever': 2, 'cough': 2, 'shortness of breath': 3, 'fatigue': 2\n",
        "    },\n",
        "    'Typhoid': {\n",
        "        'fever': 3, 'abdominal pain': 3, 'fatigue': 2, 'headache': 2, 'diarrhea': 3\n",
        "    },\n",
        "    'Cholera': {\n",
        "        'diarrhea': 3, 'vomiting': 3, 'dehydration': 2, 'leg cramps': 2\n",
        "    },\n",
        "    'Dysentery': {\n",
        "        'diarrhea': 3, 'abdominal pain': 3, 'fever': 2, 'nausea': 1\n",
        "    }\n",
        "}\n",
        "\n",
        "\n",
        "\n",
        "# We can expand this list later with more diseases and symptoms.\n"
      ]
    },
    {
      "cell_type": "markdown",
      "metadata": {
        "id": "HtImVm4l3GC9"
      },
      "source": [
        "2. Implementing the Best-First Search algorithm"
      ]
    },
    {
      "cell_type": "code",
      "execution_count": 2,
      "metadata": {
        "id": "bsvVM5Pm3Rdl"
      },
      "outputs": [],
      "source": [
        "# A* Search function that considers severity and returns multiple diagnoses with confidence scores\n",
        "def a_star_search_with_severity(symptoms_with_severity, disease_data, threshold=0.2):\n",
        "    \"\"\"\n",
        "    A* Search: Use severity to weight the symptoms more heavily if they are severe.\n",
        "    \"\"\"\n",
        "    results = []\n",
        "    max_score = sum(max(symptom_weights.values()) for symptom_weights in disease_data.values())\n",
        "\n",
        "    for disease, disease_symptoms in disease_data.items():\n",
        "        score = 0\n",
        "        for symptom, severity in symptoms_with_severity.items():\n",
        "            if symptom in disease_symptoms:\n",
        "                score += disease_symptoms[symptom] * severity  # Weight by severity\n",
        "\n",
        "        confidence = score / max_score\n",
        "\n",
        "        if confidence > threshold:\n",
        "            results.append((disease, confidence))\n",
        "\n",
        "    results.sort(key=lambda x: x[1], reverse=True)\n",
        "\n",
        "    return results\n"
      ]
    },
    {
      "cell_type": "markdown",
      "metadata": {
        "id": "hWYED_6SejUI"
      },
      "source": [
        "3. installing  SpaCy for Synonym Detection"
      ]
    },
    {
      "cell_type": "code",
      "execution_count": null,
      "metadata": {
        "colab": {
          "base_uri": "https://localhost:8080/"
        },
        "id": "9hVwAVD8eqAZ",
        "outputId": "c8afaf2e-4529-4168-b20a-9ec347a870fe"
      },
      "outputs": [
        {
          "name": "stdout",
          "output_type": "stream",
          "text": [
            "Requirement already satisfied: spacy in /usr/local/lib/python3.10/dist-packages (3.7.5)\n",
            "Requirement already satisfied: spacy-legacy<3.1.0,>=3.0.11 in /usr/local/lib/python3.10/dist-packages (from spacy) (3.0.12)\n",
            "Requirement already satisfied: spacy-loggers<2.0.0,>=1.0.0 in /usr/local/lib/python3.10/dist-packages (from spacy) (1.0.5)\n",
            "Requirement already satisfied: murmurhash<1.1.0,>=0.28.0 in /usr/local/lib/python3.10/dist-packages (from spacy) (1.0.10)\n",
            "Requirement already satisfied: cymem<2.1.0,>=2.0.2 in /usr/local/lib/python3.10/dist-packages (from spacy) (2.0.8)\n",
            "Requirement already satisfied: preshed<3.1.0,>=3.0.2 in /usr/local/lib/python3.10/dist-packages (from spacy) (3.0.9)\n",
            "Requirement already satisfied: thinc<8.3.0,>=8.2.2 in /usr/local/lib/python3.10/dist-packages (from spacy) (8.2.5)\n",
            "Requirement already satisfied: wasabi<1.2.0,>=0.9.1 in /usr/local/lib/python3.10/dist-packages (from spacy) (1.1.3)\n",
            "Requirement already satisfied: srsly<3.0.0,>=2.4.3 in /usr/local/lib/python3.10/dist-packages (from spacy) (2.4.8)\n",
            "Requirement already satisfied: catalogue<2.1.0,>=2.0.6 in /usr/local/lib/python3.10/dist-packages (from spacy) (2.0.10)\n",
            "Requirement already satisfied: weasel<0.5.0,>=0.1.0 in /usr/local/lib/python3.10/dist-packages (from spacy) (0.4.1)\n",
            "Requirement already satisfied: typer<1.0.0,>=0.3.0 in /usr/local/lib/python3.10/dist-packages (from spacy) (0.12.5)\n",
            "Requirement already satisfied: tqdm<5.0.0,>=4.38.0 in /usr/local/lib/python3.10/dist-packages (from spacy) (4.66.5)\n",
            "Requirement already satisfied: requests<3.0.0,>=2.13.0 in /usr/local/lib/python3.10/dist-packages (from spacy) (2.32.3)\n",
            "Requirement already satisfied: pydantic!=1.8,!=1.8.1,<3.0.0,>=1.7.4 in /usr/local/lib/python3.10/dist-packages (from spacy) (2.9.2)\n",
            "Requirement already satisfied: jinja2 in /usr/local/lib/python3.10/dist-packages (from spacy) (3.1.4)\n",
            "Requirement already satisfied: setuptools in /usr/local/lib/python3.10/dist-packages (from spacy) (75.1.0)\n",
            "Requirement already satisfied: packaging>=20.0 in /usr/local/lib/python3.10/dist-packages (from spacy) (24.1)\n",
            "Requirement already satisfied: langcodes<4.0.0,>=3.2.0 in /usr/local/lib/python3.10/dist-packages (from spacy) (3.4.1)\n",
            "Requirement already satisfied: numpy>=1.19.0 in /usr/local/lib/python3.10/dist-packages (from spacy) (1.26.4)\n",
            "Requirement already satisfied: language-data>=1.2 in /usr/local/lib/python3.10/dist-packages (from langcodes<4.0.0,>=3.2.0->spacy) (1.2.0)\n",
            "Requirement already satisfied: annotated-types>=0.6.0 in /usr/local/lib/python3.10/dist-packages (from pydantic!=1.8,!=1.8.1,<3.0.0,>=1.7.4->spacy) (0.7.0)\n",
            "Requirement already satisfied: pydantic-core==2.23.4 in /usr/local/lib/python3.10/dist-packages (from pydantic!=1.8,!=1.8.1,<3.0.0,>=1.7.4->spacy) (2.23.4)\n",
            "Requirement already satisfied: typing-extensions>=4.6.1 in /usr/local/lib/python3.10/dist-packages (from pydantic!=1.8,!=1.8.1,<3.0.0,>=1.7.4->spacy) (4.12.2)\n",
            "Requirement already satisfied: charset-normalizer<4,>=2 in /usr/local/lib/python3.10/dist-packages (from requests<3.0.0,>=2.13.0->spacy) (3.4.0)\n",
            "Requirement already satisfied: idna<4,>=2.5 in /usr/local/lib/python3.10/dist-packages (from requests<3.0.0,>=2.13.0->spacy) (3.10)\n",
            "Requirement already satisfied: urllib3<3,>=1.21.1 in /usr/local/lib/python3.10/dist-packages (from requests<3.0.0,>=2.13.0->spacy) (2.2.3)\n",
            "Requirement already satisfied: certifi>=2017.4.17 in /usr/local/lib/python3.10/dist-packages (from requests<3.0.0,>=2.13.0->spacy) (2024.8.30)\n",
            "Requirement already satisfied: blis<0.8.0,>=0.7.8 in /usr/local/lib/python3.10/dist-packages (from thinc<8.3.0,>=8.2.2->spacy) (0.7.11)\n",
            "Requirement already satisfied: confection<1.0.0,>=0.0.1 in /usr/local/lib/python3.10/dist-packages (from thinc<8.3.0,>=8.2.2->spacy) (0.1.5)\n",
            "Requirement already satisfied: click>=8.0.0 in /usr/local/lib/python3.10/dist-packages (from typer<1.0.0,>=0.3.0->spacy) (8.1.7)\n",
            "Requirement already satisfied: shellingham>=1.3.0 in /usr/local/lib/python3.10/dist-packages (from typer<1.0.0,>=0.3.0->spacy) (1.5.4)\n",
            "Requirement already satisfied: rich>=10.11.0 in /usr/local/lib/python3.10/dist-packages (from typer<1.0.0,>=0.3.0->spacy) (13.9.2)\n",
            "Requirement already satisfied: cloudpathlib<1.0.0,>=0.7.0 in /usr/local/lib/python3.10/dist-packages (from weasel<0.5.0,>=0.1.0->spacy) (0.19.0)\n",
            "Requirement already satisfied: smart-open<8.0.0,>=5.2.1 in /usr/local/lib/python3.10/dist-packages (from weasel<0.5.0,>=0.1.0->spacy) (7.0.5)\n",
            "Requirement already satisfied: MarkupSafe>=2.0 in /usr/local/lib/python3.10/dist-packages (from jinja2->spacy) (3.0.1)\n",
            "Requirement already satisfied: marisa-trie>=0.7.7 in /usr/local/lib/python3.10/dist-packages (from language-data>=1.2->langcodes<4.0.0,>=3.2.0->spacy) (1.2.1)\n",
            "Requirement already satisfied: markdown-it-py>=2.2.0 in /usr/local/lib/python3.10/dist-packages (from rich>=10.11.0->typer<1.0.0,>=0.3.0->spacy) (3.0.0)\n",
            "Requirement already satisfied: pygments<3.0.0,>=2.13.0 in /usr/local/lib/python3.10/dist-packages (from rich>=10.11.0->typer<1.0.0,>=0.3.0->spacy) (2.18.0)\n",
            "Requirement already satisfied: wrapt in /usr/local/lib/python3.10/dist-packages (from smart-open<8.0.0,>=5.2.1->weasel<0.5.0,>=0.1.0->spacy) (1.16.0)\n",
            "Requirement already satisfied: mdurl~=0.1 in /usr/local/lib/python3.10/dist-packages (from markdown-it-py>=2.2.0->rich>=10.11.0->typer<1.0.0,>=0.3.0->spacy) (0.1.2)\n",
            "^C\n",
            "Collecting en-core-web-sm==3.7.1\n",
            "  Downloading https://github.com/explosion/spacy-models/releases/download/en_core_web_sm-3.7.1/en_core_web_sm-3.7.1-py3-none-any.whl (12.8 MB)\n",
            "\u001b[2K     \u001b[90m━━━━━━━━━━━━━━━━━━━━━━━━━━━━━━━━━━━━━━━━\u001b[0m \u001b[32m12.8/12.8 MB\u001b[0m \u001b[31m64.8 MB/s\u001b[0m eta \u001b[36m0:00:00\u001b[0m\n",
            "\u001b[?25hRequirement already satisfied: spacy<3.8.0,>=3.7.2 in /usr/local/lib/python3.10/dist-packages (from en-core-web-sm==3.7.1) (3.7.5)\n",
            "Requirement already satisfied: spacy-legacy<3.1.0,>=3.0.11 in /usr/local/lib/python3.10/dist-packages (from spacy<3.8.0,>=3.7.2->en-core-web-sm==3.7.1) (3.0.12)\n",
            "Requirement already satisfied: spacy-loggers<2.0.0,>=1.0.0 in /usr/local/lib/python3.10/dist-packages (from spacy<3.8.0,>=3.7.2->en-core-web-sm==3.7.1) (1.0.5)\n",
            "Requirement already satisfied: murmurhash<1.1.0,>=0.28.0 in /usr/local/lib/python3.10/dist-packages (from spacy<3.8.0,>=3.7.2->en-core-web-sm==3.7.1) (1.0.10)\n",
            "Requirement already satisfied: cymem<2.1.0,>=2.0.2 in /usr/local/lib/python3.10/dist-packages (from spacy<3.8.0,>=3.7.2->en-core-web-sm==3.7.1) (2.0.8)\n",
            "Requirement already satisfied: preshed<3.1.0,>=3.0.2 in /usr/local/lib/python3.10/dist-packages (from spacy<3.8.0,>=3.7.2->en-core-web-sm==3.7.1) (3.0.9)\n",
            "Requirement already satisfied: thinc<8.3.0,>=8.2.2 in /usr/local/lib/python3.10/dist-packages (from spacy<3.8.0,>=3.7.2->en-core-web-sm==3.7.1) (8.2.5)\n",
            "Requirement already satisfied: wasabi<1.2.0,>=0.9.1 in /usr/local/lib/python3.10/dist-packages (from spacy<3.8.0,>=3.7.2->en-core-web-sm==3.7.1) (1.1.3)\n",
            "Requirement already satisfied: srsly<3.0.0,>=2.4.3 in /usr/local/lib/python3.10/dist-packages (from spacy<3.8.0,>=3.7.2->en-core-web-sm==3.7.1) (2.4.8)\n",
            "Requirement already satisfied: catalogue<2.1.0,>=2.0.6 in /usr/local/lib/python3.10/dist-packages (from spacy<3.8.0,>=3.7.2->en-core-web-sm==3.7.1) (2.0.10)\n",
            "Requirement already satisfied: weasel<0.5.0,>=0.1.0 in /usr/local/lib/python3.10/dist-packages (from spacy<3.8.0,>=3.7.2->en-core-web-sm==3.7.1) (0.4.1)\n",
            "Requirement already satisfied: typer<1.0.0,>=0.3.0 in /usr/local/lib/python3.10/dist-packages (from spacy<3.8.0,>=3.7.2->en-core-web-sm==3.7.1) (0.12.5)\n",
            "Requirement already satisfied: tqdm<5.0.0,>=4.38.0 in /usr/local/lib/python3.10/dist-packages (from spacy<3.8.0,>=3.7.2->en-core-web-sm==3.7.1) (4.66.5)\n",
            "Requirement already satisfied: requests<3.0.0,>=2.13.0 in /usr/local/lib/python3.10/dist-packages (from spacy<3.8.0,>=3.7.2->en-core-web-sm==3.7.1) (2.32.3)\n",
            "Requirement already satisfied: pydantic!=1.8,!=1.8.1,<3.0.0,>=1.7.4 in /usr/local/lib/python3.10/dist-packages (from spacy<3.8.0,>=3.7.2->en-core-web-sm==3.7.1) (2.9.2)\n",
            "Requirement already satisfied: jinja2 in /usr/local/lib/python3.10/dist-packages (from spacy<3.8.0,>=3.7.2->en-core-web-sm==3.7.1) (3.1.4)\n",
            "Requirement already satisfied: setuptools in /usr/local/lib/python3.10/dist-packages (from spacy<3.8.0,>=3.7.2->en-core-web-sm==3.7.1) (75.1.0)\n",
            "Requirement already satisfied: packaging>=20.0 in /usr/local/lib/python3.10/dist-packages (from spacy<3.8.0,>=3.7.2->en-core-web-sm==3.7.1) (24.1)\n",
            "Requirement already satisfied: langcodes<4.0.0,>=3.2.0 in /usr/local/lib/python3.10/dist-packages (from spacy<3.8.0,>=3.7.2->en-core-web-sm==3.7.1) (3.4.1)\n",
            "Requirement already satisfied: numpy>=1.19.0 in /usr/local/lib/python3.10/dist-packages (from spacy<3.8.0,>=3.7.2->en-core-web-sm==3.7.1) (1.26.4)\n",
            "Requirement already satisfied: language-data>=1.2 in /usr/local/lib/python3.10/dist-packages (from langcodes<4.0.0,>=3.2.0->spacy<3.8.0,>=3.7.2->en-core-web-sm==3.7.1) (1.2.0)\n",
            "Requirement already satisfied: annotated-types>=0.6.0 in /usr/local/lib/python3.10/dist-packages (from pydantic!=1.8,!=1.8.1,<3.0.0,>=1.7.4->spacy<3.8.0,>=3.7.2->en-core-web-sm==3.7.1) (0.7.0)\n",
            "Requirement already satisfied: pydantic-core==2.23.4 in /usr/local/lib/python3.10/dist-packages (from pydantic!=1.8,!=1.8.1,<3.0.0,>=1.7.4->spacy<3.8.0,>=3.7.2->en-core-web-sm==3.7.1) (2.23.4)\n",
            "Requirement already satisfied: typing-extensions>=4.6.1 in /usr/local/lib/python3.10/dist-packages (from pydantic!=1.8,!=1.8.1,<3.0.0,>=1.7.4->spacy<3.8.0,>=3.7.2->en-core-web-sm==3.7.1) (4.12.2)\n",
            "Requirement already satisfied: charset-normalizer<4,>=2 in /usr/local/lib/python3.10/dist-packages (from requests<3.0.0,>=2.13.0->spacy<3.8.0,>=3.7.2->en-core-web-sm==3.7.1) (3.4.0)\n",
            "Requirement already satisfied: idna<4,>=2.5 in /usr/local/lib/python3.10/dist-packages (from requests<3.0.0,>=2.13.0->spacy<3.8.0,>=3.7.2->en-core-web-sm==3.7.1) (3.10)\n",
            "Requirement already satisfied: urllib3<3,>=1.21.1 in /usr/local/lib/python3.10/dist-packages (from requests<3.0.0,>=2.13.0->spacy<3.8.0,>=3.7.2->en-core-web-sm==3.7.1) (2.2.3)\n",
            "Requirement already satisfied: certifi>=2017.4.17 in /usr/local/lib/python3.10/dist-packages (from requests<3.0.0,>=2.13.0->spacy<3.8.0,>=3.7.2->en-core-web-sm==3.7.1) (2024.8.30)\n",
            "Requirement already satisfied: blis<0.8.0,>=0.7.8 in /usr/local/lib/python3.10/dist-packages (from thinc<8.3.0,>=8.2.2->spacy<3.8.0,>=3.7.2->en-core-web-sm==3.7.1) (0.7.11)\n",
            "Requirement already satisfied: confection<1.0.0,>=0.0.1 in /usr/local/lib/python3.10/dist-packages (from thinc<8.3.0,>=8.2.2->spacy<3.8.0,>=3.7.2->en-core-web-sm==3.7.1) (0.1.5)\n",
            "Requirement already satisfied: click>=8.0.0 in /usr/local/lib/python3.10/dist-packages (from typer<1.0.0,>=0.3.0->spacy<3.8.0,>=3.7.2->en-core-web-sm==3.7.1) (8.1.7)\n",
            "Requirement already satisfied: shellingham>=1.3.0 in /usr/local/lib/python3.10/dist-packages (from typer<1.0.0,>=0.3.0->spacy<3.8.0,>=3.7.2->en-core-web-sm==3.7.1) (1.5.4)\n",
            "Requirement already satisfied: rich>=10.11.0 in /usr/local/lib/python3.10/dist-packages (from typer<1.0.0,>=0.3.0->spacy<3.8.0,>=3.7.2->en-core-web-sm==3.7.1) (13.9.2)\n",
            "Requirement already satisfied: cloudpathlib<1.0.0,>=0.7.0 in /usr/local/lib/python3.10/dist-packages (from weasel<0.5.0,>=0.1.0->spacy<3.8.0,>=3.7.2->en-core-web-sm==3.7.1) (0.19.0)\n",
            "Requirement already satisfied: smart-open<8.0.0,>=5.2.1 in /usr/local/lib/python3.10/dist-packages (from weasel<0.5.0,>=0.1.0->spacy<3.8.0,>=3.7.2->en-core-web-sm==3.7.1) (7.0.5)\n",
            "Requirement already satisfied: MarkupSafe>=2.0 in /usr/local/lib/python3.10/dist-packages (from jinja2->spacy<3.8.0,>=3.7.2->en-core-web-sm==3.7.1) (3.0.1)\n",
            "Requirement already satisfied: marisa-trie>=0.7.7 in /usr/local/lib/python3.10/dist-packages (from language-data>=1.2->langcodes<4.0.0,>=3.2.0->spacy<3.8.0,>=3.7.2->en-core-web-sm==3.7.1) (1.2.1)\n",
            "Requirement already satisfied: markdown-it-py>=2.2.0 in /usr/local/lib/python3.10/dist-packages (from rich>=10.11.0->typer<1.0.0,>=0.3.0->spacy<3.8.0,>=3.7.2->en-core-web-sm==3.7.1) (3.0.0)\n",
            "Requirement already satisfied: pygments<3.0.0,>=2.13.0 in /usr/local/lib/python3.10/dist-packages (from rich>=10.11.0->typer<1.0.0,>=0.3.0->spacy<3.8.0,>=3.7.2->en-core-web-sm==3.7.1) (2.18.0)\n",
            "Requirement already satisfied: wrapt in /usr/local/lib/python3.10/dist-packages (from smart-open<8.0.0,>=5.2.1->weasel<0.5.0,>=0.1.0->spacy<3.8.0,>=3.7.2->en-core-web-sm==3.7.1) (1.16.0)\n",
            "Requirement already satisfied: mdurl~=0.1 in /usr/local/lib/python3.10/dist-packages (from markdown-it-py>=2.2.0->rich>=10.11.0->typer<1.0.0,>=0.3.0->spacy<3.8.0,>=3.7.2->en-core-web-sm==3.7.1) (0.1.2)\n",
            "\u001b[38;5;2m✔ Download and installation successful\u001b[0m\n",
            "You can now load the package via spacy.load('en_core_web_sm')\n",
            "\u001b[38;5;3m⚠ Restart to reload dependencies\u001b[0m\n",
            "If you are in a Jupyter or Colab notebook, you may need to restart Python in\n",
            "order to load all the package's dependencies. You can do this by selecting the\n",
            "'Restart kernel' or 'Restart runtime' option.\n"
          ]
        }
      ],
      "source": [
        "!pip install spacy\n",
        "!python -m spacy download en_core_web_sm\n"
      ]
    },
    {
      "cell_type": "markdown",
      "metadata": {
        "id": "Nuu09LffhW9O"
      },
      "source": [
        "3. Implement Spell Correction"
      ]
    },
    {
      "cell_type": "code",
      "execution_count": 3,
      "metadata": {
        "id": "Ksp-fSzfhYjp"
      },
      "outputs": [],
      "source": [
        "import spacy\n",
        "\n",
        "# Load SpaCy's small English model for natural language processing\n",
        "nlp = spacy.load(\"en_core_web_sm\")\n",
        "\n",
        "# Function to detect synonyms using word similarity from SpaCy\n",
        "def detect_synonyms(symptom, valid_symptoms):\n",
        "    doc1 = nlp(symptom)\n",
        "    best_match = None\n",
        "    highest_similarity = 0\n",
        "\n",
        "    for valid_symptom in valid_symptoms:\n",
        "        doc2 = nlp(valid_symptom)\n",
        "        similarity = doc1.similarity(doc2)\n",
        "\n",
        "        if similarity > highest_similarity:\n",
        "            highest_similarity = similarity\n",
        "            best_match = valid_symptom\n",
        "\n",
        "    # Return best match if similarity is above a threshold, otherwise return the original symptom\n",
        "    return best_match if highest_similarity > 0.7 else symptom  # Similarity threshold: 0.7\n",
        "\n",
        "# Function to handle close matches for symptoms with automatic synonym detection\n",
        "def correct_spelling(symptoms, valid_symptoms):\n",
        "    corrected_symptoms = []\n",
        "    for symptom in symptoms:\n",
        "        # Use synonym detection instead of manual matching\n",
        "        synonym = detect_synonyms(symptom, valid_symptoms)\n",
        "        corrected_symptoms.append(synonym)\n",
        "    return corrected_symptoms\n"
      ]
    },
    {
      "cell_type": "markdown",
      "metadata": {
        "id": "b0rbejCnXzzc"
      },
      "source": [
        "4. Saving and Loading Weights"
      ]
    },
    {
      "cell_type": "code",
      "execution_count": 4,
      "metadata": {
        "id": "bEOLvN9bb5yp"
      },
      "outputs": [],
      "source": [
        "# Function to get feedback from the user after diagnosis\n",
        "def get_user_feedback():\n",
        "    feedback = input(\"Was the diagnosis correct? (yes/no): \").strip().lower()\n",
        "    return feedback == 'yes'\n",
        "\n",
        "# Function to adjust symptom weights based on feedback\n",
        "def adjust_symptom_weights(diagnosis, symptoms, correct, disease_data):\n",
        "    adjustment = 1 if correct else -0.5  # Increase for correct, decrease slightly for incorrect\n",
        "\n",
        "    for symptom in symptoms:\n",
        "        if symptom in disease_data[diagnosis]:\n",
        "            disease_data[diagnosis][symptom] += adjustment\n",
        "            # Ensure weights don't go below zero\n",
        "            disease_data[diagnosis][symptom] = max(disease_data[diagnosis][symptom], 0)\n",
        "\n",
        "    print(f\"Updated weights for {diagnosis}: {disease_data[diagnosis]}\")\n"
      ]
    },
    {
      "cell_type": "markdown",
      "metadata": {
        "id": "euHcCJ6bv7u2"
      },
      "source": [
        "5. Function to save learned data (symptom weights) to a CSV file"
      ]
    },
    {
      "cell_type": "code",
      "execution_count": 6,
      "metadata": {
        "id": "cXNhxjsHX10N"
      },
      "outputs": [],
      "source": [
        "import csv\n",
        "\n",
        "# Function to save learned data (symptom weights) to a CSV file\n",
        "def save_learned_weights(disease_data, filename='learned_weights.csv'):\n",
        "    with open(filename, mode='w') as file:\n",
        "        writer = csv.writer(file)\n",
        "        writer.writerow([\"Disease\", \"Symptom\", \"Weight\"])\n",
        "        for disease, symptoms in disease_data.items():\n",
        "            for symptom, weight in symptoms.items():\n",
        "                writer.writerow([disease, symptom, weight])\n",
        "\n",
        "# Function to load learned data from a CSV file\n",
        "def load_learned_weights(filename='learned_weights.csv'):\n",
        "    try:\n",
        "        with open(filename, mode='r') as file:\n",
        "            reader = csv.reader(file)\n",
        "            next(reader)  # Skip header\n",
        "            for row in reader:\n",
        "                disease, symptom, weight = row\n",
        "                diseases[disease][symptom] = float(weight)\n",
        "    except FileNotFoundError:\n",
        "        print(\"No learned weights file found, using default weights.\")\n"
      ]
    },
    {
      "cell_type": "markdown",
      "metadata": {
        "id": "ZV_r6qRE4mo-"
      },
      "source": [
        "6. User Interaction and Main Function"
      ]
    },
    {
      "cell_type": "code",
      "execution_count": null,
      "metadata": {
        "colab": {
          "base_uri": "https://localhost:8080/"
        },
        "id": "1anchZkK4p1G",
        "outputId": "cf34e59d-aab7-4d19-e6c2-9de3bddbf423"
      },
      "outputs": [
        {
          "ename": "",
          "evalue": "",
          "output_type": "error",
          "traceback": [
            "\u001b[1;31mFailed to start the Kernel. \n",
            "\u001b[1;31mUnable to start Kernel 'Python 3.12.2' due to a timeout waiting for the ports to get used. \n",
            "\u001b[1;31mView Jupyter <a href='command:jupyter.viewOutput'>log</a> for further details."
          ]
        }
      ],
      "source": [
        "def get_user_input_with_severity():\n",
        "    symptoms = {}\n",
        "\n",
        "    while True:\n",
        "        print(\"Enter your symptoms with severity (e.g., fever:3, cough:2). Severity is on a scale from 1 (mild) to 3 (severe):\")\n",
        "        input_str = input().lower()\n",
        "\n",
        "        invalid_input = False  # Flag to check if any input was invalid\n",
        "\n",
        "        # Process each symptom:severity pair\n",
        "        for item in input_str.split(\",\"):\n",
        "            try:\n",
        "                symptom, severity = item.split(\":\")\n",
        "                symptoms[symptom.strip()] = int(severity.strip())\n",
        "            except ValueError:\n",
        "                print(f\"Invalid input format for '{item.strip()}'. Please use the format 'symptom:severity'.\")\n",
        "                invalid_input = True\n",
        "                break  # Break the loop and ask for input again\n",
        "\n",
        "        if not invalid_input:\n",
        "            break  # If all inputs are valid, exit the loop\n",
        "\n",
        "    return symptoms\n",
        "\n",
        "\n",
        "# Rule-based diagnosis for initial check\n",
        "def rule_based_diagnosis(symptoms):\n",
        "    if 'fever' in symptoms and 'chills' in symptoms and 'sweats' in symptoms:\n",
        "        return \"This might be Malaria.\"\n",
        "    if 'fever' in symptoms and 'abdominal pain' in symptoms and 'diarrhea' in symptoms:\n",
        "        return \"This might be Typhoid or Cholera.\"\n",
        "\n",
        "    return None\n",
        "\n",
        "\n",
        "# Final main function\n",
        "def main():\n",
        "    print(\"Welcome to the Adaptive Medical Diagnosis Expert System!\")\n",
        "\n",
        "    # Load any previously learned weights\n",
        "    load_learned_weights()\n",
        "\n",
        "    # Get symptoms with severity from the user\n",
        "    symptoms_with_severity = get_user_input_with_severity()\n",
        "\n",
        "    # Extract just the symptoms for rule-based checks\n",
        "    symptoms_only = symptoms_with_severity.keys()\n",
        "\n",
        "    # Run rule-based diagnosis first\n",
        "    rule_diagnosis = rule_based_diagnosis(symptoms_only)\n",
        "    if rule_diagnosis:\n",
        "        print(f\"\\nRule-based diagnosis: {rule_diagnosis}\")\n",
        "\n",
        "    # Use A* Search with severity to find multiple diagnoses\n",
        "    results = a_star_search_with_severity(symptoms_with_severity, diseases)\n",
        "\n",
        "    i = 0  # Start diagnosis index\n",
        "\n",
        "    while True:\n",
        "        if results and i < len(results):\n",
        "            # Present the current best diagnosis\n",
        "            best_diagnosis = results[i][0]\n",
        "            confidence = results[i][1] * 100\n",
        "            print(f\"\\nBest match: {best_diagnosis} ({confidence:.2f}% confidence)\")\n",
        "\n",
        "            # Ask for feedback\n",
        "            correct = input(\"Was the diagnosis correct? (yes/no): \").strip().lower()\n",
        "\n",
        "            if correct == 'yes':\n",
        "                # If diagnosis is correct, adjust the weights and exit\n",
        "                adjust_symptom_weights(results[i][0], symptoms_only, True, diseases)\n",
        "                print(f\"Updated weights for {results[i][0]}: {diseases[results[i][0]]}\")\n",
        "                save_learned_weights(diseases)\n",
        "                break  # Exit after correct diagnosis\n",
        "            elif correct == 'no':\n",
        "                # Move to the next best diagnosis\n",
        "                i += 1\n",
        "                if i >= len(results):\n",
        "                    # If no more diagnoses are available, ask for more symptoms\n",
        "                    print(\"\\nNo more diagnoses available.\")\n",
        "                    print(\"Please provide more symptoms to refine the diagnosis.\")\n",
        "                    new_symptoms = input(\"Enter additional symptoms with severity (e.g., nausea:2, fatigue:1): \").lower()\n",
        "                    additional_symptoms = dict(item.split(\":\") for item in new_symptoms.split(\",\"))\n",
        "                    # Convert severity to integer and add to current symptoms\n",
        "                    symptoms_with_severity.update({symptom.strip(): int(severity.strip()) for symptom, severity in additional_symptoms.items()})\n",
        "\n",
        "                    # Re-run the search with updated symptoms\n",
        "                    results = a_star_search_with_severity(symptoms_with_severity, diseases)\n",
        "                    i = 0  # Reset diagnosis index to start again with updated symptoms\n",
        "            else:\n",
        "                print(\"Invalid input. Please type 'yes' or 'no'.\")\n",
        "        else:\n",
        "            print(\"\\nNo diagnosis found. Kindly visit your doctor for further consultation.\")\n",
        "            break\n",
        "\n",
        "# Run the system\n",
        "main()\n"
      ]
    }
  ],
  "metadata": {
    "colab": {
      "provenance": [],
      "toc_visible": true
    },
    "kernelspec": {
      "display_name": "Python 3",
      "name": "python3"
    },
    "language_info": {
      "name": "python",
      "version": "3.12.2"
    }
  },
  "nbformat": 4,
  "nbformat_minor": 0
}
